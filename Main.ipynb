{
 "cells": [
  {
   "cell_type": "code",
   "execution_count": null,
   "metadata": {},
   "outputs": [],
   "source": [
    "import svgwrite\n",
    "\n",
    "def create_pelican_bicycle_svg(filename=\"pelican_bicycle.svg\"):\n",
    "    # Create a drawing canvas\n",
    "    dwg = svgwrite.Drawing(filename, profile='full', size=(\"800px\", \"600px\"))\n",
    "\n",
    "    # --- Draw Bicycle ---\n",
    "    # Bicycle wheels (left and right)\n",
    "    left_wheel = dwg.circle(center=(200, 400), r=50, stroke=\"black\", fill=\"none\", stroke_width=4)\n",
    "    right_wheel = dwg.circle(center=(400, 400), r=50, stroke=\"black\", fill=\"none\", stroke_width=4)\n",
    "    dwg.add(left_wheel)\n",
    "    dwg.add(right_wheel)\n",
    "\n",
    "    # Bicycle frame (a simple diamond shape)\n",
    "    pedal_center = (300, 300)\n",
    "    dwg.add(dwg.line(start=(200, 400), end=pedal_center, stroke=\"black\", stroke_width=4))\n",
    "    dwg.add(dwg.line(start=pedal_center, end=(400, 400), stroke=\"black\", stroke_width=4))\n",
    "    seat_point = (250, 250)\n",
    "    dwg.add(dwg.line(start=pedal_center, end=seat_point, stroke=\"black\", stroke_width=4))\n",
    "    dwg.add(dwg.line(start=seat_point, end=(200, 400), stroke=\"black\", stroke_width=4))\n",
    "    dwg.add(dwg.line(start=pedal_center, end=(350, 270), stroke=\"black\", stroke_width=4))\n",
    "\n",
    "    # --- Draw Pelican ---\n",
    "    pelican = dwg.g(id=\"pelican\", fill=\"gray\", stroke=\"black\", stroke_width=2)\n",
    "    body = dwg.ellipse(center=(300, 260), r=(\"30\", \"20\"))\n",
    "    pelican.add(body)\n",
    "    head = dwg.circle(center=(330, 240), r=15, fill=\"gray\", stroke=\"black\", stroke_width=2)\n",
    "    pelican.add(head)\n",
    "    beak = dwg.polygon(points=[(345, 240), (375, 235), (345, 245)], fill=\"orange\", stroke=\"black\", stroke_width=2)\n",
    "    pelican.add(beak)\n",
    "    \n",
    "    # Corrected AnimateTransform: Pass the transform type as the first positional argument.\n",
    "    pelican.add(dwg.animateTransform(\n",
    "        \"translate\",  # Required first argument specifying the transformation type\n",
    "        attributeName=\"transform\",\n",
    "        values=\"0,0; 0,-10; 0,0\",\n",
    "        dur=\"1s\",\n",
    "        repeatCount=\"indefinite\"\n",
    "    ))\n",
    "    \n",
    "    dwg.add(pelican)\n",
    "    dwg.save()\n",
    "    print(f\"SVG saved as {filename}\")\n",
    "\n",
    "if __name__ == \"__main__\":\n",
    "    create_pelican_bicycle_svg()\n",
    "\n"
   ]
  }
 ],
 "metadata": {
  "kernelspec": {
   "display_name": "Python 3",
   "language": "python",
   "name": "python3"
  },
  "language_info": {
   "codemirror_mode": {
    "name": "ipython",
    "version": 3
   },
   "file_extension": ".py",
   "mimetype": "text/x-python",
   "name": "python",
   "nbconvert_exporter": "python",
   "pygments_lexer": "ipython3",
   "version": "3.10.11"
  }
 },
 "nbformat": 4,
 "nbformat_minor": 2
}
